{
 "cells": [
  {
   "cell_type": "markdown",
   "metadata": {},
   "source": [
    "# Required Libraries"
   ]
  },
  {
   "cell_type": "code",
   "execution_count": 1,
   "metadata": {},
   "outputs": [],
   "source": [
    "%matplotlib inline\n",
    "\n",
    "from datetime import datetime, timedelta\n",
    "import numpy as np\n",
    "import yfinance as yf\n",
    "from arch import arch_model\n",
    "\n",
    "import matplotlib.pyplot as plt"
   ]
  },
  {
   "cell_type": "markdown",
   "metadata": {},
   "source": [
    "# Setup The Variables"
   ]
  },
  {
   "cell_type": "code",
   "execution_count": 2,
   "metadata": {},
   "outputs": [
    {
     "name": "stdout",
     "output_type": "stream",
     "text": [
      "[*********************100%***********************]  1 of 1 completed\n"
     ]
    }
   ],
   "source": [
    "plt.rc(\"figure\", figsize=(16, 6))\n",
    "plt.rc(\"font\", family=\"sans-serif\")\n",
    "plt.rc(\"font\", size=14)\n",
    "\n",
    "yesterday: str = (datetime.today() - timedelta(days=1)).strftime('%Y-%m-%d')\n",
    "days_ago_hour: str = (datetime.today() - timedelta(days=720)).strftime('%Y-%m-%d')\n",
    "today = datetime.today().strftime('%Y-%m-%d')\n",
    "\n",
    "ticker = \"AAPL\"\n",
    "\n",
    "data = yf.download(\"AAPL\", start=days_ago_hour, end=today)\n",
    "adjusted_closes = data['Adj Close']\n",
    "returns = 100 * adjusted_closes.pct_change().dropna()"
   ]
  },
  {
   "cell_type": "markdown",
   "metadata": {},
   "source": [
    "# GARCH Model"
   ]
  },
  {
   "cell_type": "code",
   "execution_count": 3,
   "metadata": {},
   "outputs": [
    {
     "name": "stdout",
     "output_type": "stream",
     "text": [
      "Iteration:      1,   Func. Count:      6,   Neg. LLF: 1935.5573496541253\n",
      "Iteration:      2,   Func. Count:     13,   Neg. LLF: 1034.8346073211635\n",
      "Iteration:      3,   Func. Count:     19,   Neg. LLF: 1048.9141860430198\n",
      "Iteration:      4,   Func. Count:     25,   Neg. LLF: 1014.1051000582178\n",
      "Iteration:      5,   Func. Count:     31,   Neg. LLF: 1480.6518333857377\n",
      "Iteration:      6,   Func. Count:     39,   Neg. LLF: 1012.9461096949542\n",
      "Iteration:      7,   Func. Count:     45,   Neg. LLF: 1015.7503101981374\n",
      "Iteration:      8,   Func. Count:     51,   Neg. LLF: 1012.7728888032984\n",
      "Iteration:      9,   Func. Count:     57,   Neg. LLF: 1011.9753369525938\n",
      "Iteration:     10,   Func. Count:     62,   Neg. LLF: 1011.9752495571145\n",
      "Iteration:     11,   Func. Count:     67,   Neg. LLF: 1011.9752486375928\n",
      "Optimization terminated successfully    (Exit mode 0)\n",
      "            Current function value: 1011.9752486375928\n",
      "            Iterations: 11\n",
      "            Function evaluations: 67\n",
      "            Gradient evaluations: 11\n",
      "                     Constant Mean - GARCH Model Results                      \n",
      "==============================================================================\n",
      "Dep. Variable:              Adj Close   R-squared:                       0.000\n",
      "Mean Model:             Constant Mean   Adj. R-squared:                  0.000\n",
      "Vol Model:                      GARCH   Log-Likelihood:               -1011.98\n",
      "Distribution:                  Normal   AIC:                           2031.95\n",
      "Method:            Maximum Likelihood   BIC:                           2048.78\n",
      "                                        No. Observations:                  496\n",
      "Date:                Sun, Dec 11 2022   Df Residuals:                      495\n",
      "Time:                        13:12:18   Df Model:                            1\n",
      "                                 Mean Model                                \n",
      "===========================================================================\n",
      "                 coef    std err          t      P>|t|     95.0% Conf. Int.\n",
      "---------------------------------------------------------------------------\n",
      "mu             0.1094  8.384e-02      1.305      0.192 [-5.491e-02,  0.274]\n",
      "                              Volatility Model                              \n",
      "============================================================================\n",
      "                 coef    std err          t      P>|t|      95.0% Conf. Int.\n",
      "----------------------------------------------------------------------------\n",
      "omega          0.0430  3.829e-02      1.123      0.261  [-3.204e-02,  0.118]\n",
      "alpha[1]       0.0502  1.897e-02      2.644  8.185e-03 [1.299e-02,8.736e-02]\n",
      "beta[1]        0.9396  2.396e-02     39.216      0.000     [  0.893,  0.987]\n",
      "============================================================================\n",
      "\n",
      "Covariance estimator: robust\n"
     ]
    }
   ],
   "source": [
    "model = arch_model(returns)\n",
    "res = model.fit()\n",
    "\n",
    "print(res.summary())\n"
   ]
  },
  {
   "cell_type": "markdown",
   "metadata": {},
   "source": [
    "# Forecast Volatility"
   ]
  },
  {
   "cell_type": "code",
   "execution_count": 4,
   "metadata": {},
   "outputs": [],
   "source": [
    "# get the variance forecast\n",
    "forecast = res.forecast(horizon=1, reindex=False)\n",
    "variance_forecast = forecast.variance.iloc[-1][0]\n",
    "\n",
    "# compute the annualized volatility forecast\n",
    "volatility_forecast = np.sqrt(variance_forecast)\n",
    "annualized_volatility_forecast = volatility_forecast * np.sqrt(252) / 100"
   ]
  }
 ],
 "metadata": {
  "kernelspec": {
   "display_name": "Python 3.10.8 64-bit",
   "language": "python",
   "name": "python3"
  },
  "language_info": {
   "codemirror_mode": {
    "name": "ipython",
    "version": 3
   },
   "file_extension": ".py",
   "mimetype": "text/x-python",
   "name": "python",
   "nbconvert_exporter": "python",
   "pygments_lexer": "ipython3",
   "version": "3.10.8"
  },
  "orig_nbformat": 4,
  "vscode": {
   "interpreter": {
    "hash": "aee8b7b246df8f9039afb4144a1f6fd8d2ca17a180786b69acc140d282b71a49"
   }
  }
 },
 "nbformat": 4,
 "nbformat_minor": 2
}
