{
 "cells": [
  {
   "cell_type": "markdown",
   "metadata": {},
   "source": [
    "# Required Libraries"
   ]
  },
  {
   "cell_type": "code",
   "execution_count": 28,
   "metadata": {},
   "outputs": [],
   "source": [
    "%matplotlib inline\n",
    "\n",
    "from datetime import datetime, timedelta\n",
    "import numpy as np\n",
    "import yfinance as yf\n",
    "from arch import arch_model\n",
    "\n",
    "import matplotlib.pyplot as plt"
   ]
  },
  {
   "cell_type": "markdown",
   "metadata": {},
   "source": [
    "# Setup The Variables"
   ]
  },
  {
   "cell_type": "code",
   "execution_count": 29,
   "metadata": {},
   "outputs": [
    {
     "name": "stdout",
     "output_type": "stream",
     "text": [
      "[*********************100%***********************]  1 of 1 completed\n"
     ]
    }
   ],
   "source": [
    "plt.rc(\"figure\", figsize=(16, 6))\n",
    "plt.rc(\"font\", family=\"sans-serif\")\n",
    "plt.rc(\"font\", size=14)\n",
    "\n",
    "yesterday: str = (datetime.today() - timedelta(days=1)).strftime('%Y-%m-%d')\n",
    "days_ago_hour: str = (datetime.today() - timedelta(days=720)).strftime('%Y-%m-%d')\n",
    "today = datetime.today().strftime('%Y-%m-%d')\n",
    "\n",
    "ticker = \"AAPL\"\n",
    "\n",
    "data = yf.download(\"AAPL\", start=days_ago_hour, end=today)\n",
    "adjusted_closes = data['Adj Close']\n",
    "returns = 100 * adjusted_closes.pct_change().dropna()"
   ]
  },
  {
   "cell_type": "markdown",
   "metadata": {},
   "source": [
    "# GARCH Model"
   ]
  },
  {
   "cell_type": "code",
   "execution_count": 30,
   "metadata": {},
   "outputs": [
    {
     "name": "stdout",
     "output_type": "stream",
     "text": [
      "Iteration:      1,   Func. Count:      6,   Neg. LLF: 2574.7421875098944\n",
      "Iteration:      2,   Func. Count:     15,   Neg. LLF: 22627.01531990222\n",
      "Iteration:      3,   Func. Count:     22,   Neg. LLF: 1786.8102632845294\n",
      "Iteration:      4,   Func. Count:     29,   Neg. LLF: 1628.7594121259351\n",
      "Iteration:      5,   Func. Count:     36,   Neg. LLF: 1391.3563357904131\n",
      "Iteration:      6,   Func. Count:     42,   Neg. LLF: 1386.023738616712\n",
      "Iteration:      7,   Func. Count:     47,   Neg. LLF: 1386.0231057723172\n",
      "Iteration:      8,   Func. Count:     52,   Neg. LLF: 1386.023074847039\n",
      "Iteration:      9,   Func. Count:     57,   Neg. LLF: 1386.0230740225634\n",
      "Optimization terminated successfully    (Exit mode 0)\n",
      "            Current function value: 1386.0230740225634\n",
      "            Iterations: 9\n",
      "            Function evaluations: 57\n",
      "            Gradient evaluations: 9\n",
      "                     Constant Mean - GARCH Model Results                      \n",
      "==============================================================================\n",
      "Dep. Variable:              Adj Close   R-squared:                       0.000\n",
      "Mean Model:             Constant Mean   Adj. R-squared:                  0.000\n",
      "Vol Model:                      GARCH   Log-Likelihood:               -1386.02\n",
      "Distribution:                  Normal   AIC:                           2780.05\n",
      "Method:            Maximum Likelihood   BIC:                           2797.94\n",
      "                                        No. Observations:                  648\n",
      "Date:                Wed, Nov 16 2022   Df Residuals:                      647\n",
      "Time:                        15:38:31   Df Model:                            1\n",
      "                                Mean Model                                \n",
      "==========================================================================\n",
      "                 coef    std err          t      P>|t|    95.0% Conf. Int.\n",
      "--------------------------------------------------------------------------\n",
      "mu             0.2180  7.860e-02      2.774  5.541e-03 [6.397e-02,  0.372]\n",
      "                             Volatility Model                             \n",
      "==========================================================================\n",
      "                 coef    std err          t      P>|t|    95.0% Conf. Int.\n",
      "--------------------------------------------------------------------------\n",
      "omega          0.2379  8.994e-02      2.645  8.181e-03 [6.157e-02,  0.414]\n",
      "alpha[1]       0.1326  3.112e-02      4.259  2.050e-05 [7.157e-02,  0.194]\n",
      "beta[1]        0.8221  3.366e-02     24.424 9.625e-132   [  0.756,  0.888]\n",
      "==========================================================================\n",
      "\n",
      "Covariance estimator: robust\n"
     ]
    }
   ],
   "source": [
    "model = arch_model(returns)\n",
    "res = model.fit()\n",
    "\n",
    "print(res.summary())\n"
   ]
  },
  {
   "cell_type": "markdown",
   "metadata": {},
   "source": [
    "# Forecast Volatility"
   ]
  },
  {
   "cell_type": "code",
   "execution_count": 31,
   "metadata": {},
   "outputs": [],
   "source": [
    "# get the variance forecast\n",
    "forecast = res.forecast(horizon=1, reindex=False)\n",
    "variance_forecast = forecast.variance.iloc[-1][0]\n",
    "\n",
    "# compute the annualized volatility forecast\n",
    "volatility_forecast = np.sqrt(variance_forecast)\n",
    "annualized_volatility_forecast = volatility_forecast * np.sqrt(252) / 100"
   ]
  }
 ],
 "metadata": {
  "kernelspec": {
   "display_name": "Python 3.10.8 64-bit",
   "language": "python",
   "name": "python3"
  },
  "language_info": {
   "codemirror_mode": {
    "name": "ipython",
    "version": 3
   },
   "file_extension": ".py",
   "mimetype": "text/x-python",
   "name": "python",
   "nbconvert_exporter": "python",
   "pygments_lexer": "ipython3",
   "version": "3.10.8"
  },
  "orig_nbformat": 4,
  "vscode": {
   "interpreter": {
    "hash": "aee8b7b246df8f9039afb4144a1f6fd8d2ca17a180786b69acc140d282b71a49"
   }
  }
 },
 "nbformat": 4,
 "nbformat_minor": 2
}
